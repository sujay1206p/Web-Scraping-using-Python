{
 "cells": [
  {
   "cell_type": "code",
   "execution_count": 1,
   "metadata": {},
   "outputs": [
    {
     "name": "stdout",
     "output_type": "stream",
     "text": [
      "Requirement already satisfied: pandas in c:\\programdata\\anaconda3\\lib\\site-packages (1.0.5)\n",
      "Requirement already satisfied: numpy>=1.13.3 in c:\\programdata\\anaconda3\\lib\\site-packages (from pandas) (1.18.5)\n",
      "Requirement already satisfied: pytz>=2017.2 in c:\\programdata\\anaconda3\\lib\\site-packages (from pandas) (2020.1)\n",
      "Requirement already satisfied: python-dateutil>=2.6.1 in c:\\programdata\\anaconda3\\lib\\site-packages (from pandas) (2.8.1)\n",
      "Requirement already satisfied: six>=1.5 in c:\\programdata\\anaconda3\\lib\\site-packages (from python-dateutil>=2.6.1->pandas) (1.15.0)\n",
      "Note: you may need to restart the kernel to use updated packages.\n"
     ]
    }
   ],
   "source": [
    "pip install pandas"
   ]
  },
  {
   "cell_type": "code",
   "execution_count": 2,
   "metadata": {},
   "outputs": [
    {
     "name": "stdout",
     "output_type": "stream",
     "text": [
      "Requirement already satisfied: requests in c:\\programdata\\anaconda3\\lib\\site-packages (2.24.0)\n",
      "Requirement already satisfied: urllib3!=1.25.0,!=1.25.1,<1.26,>=1.21.1 in c:\\programdata\\anaconda3\\lib\\site-packages (from requests) (1.25.9)\n",
      "Requirement already satisfied: idna<3,>=2.5 in c:\\programdata\\anaconda3\\lib\\site-packages (from requests) (2.10)\n",
      "Requirement already satisfied: certifi>=2017.4.17 in c:\\programdata\\anaconda3\\lib\\site-packages (from requests) (2020.6.20)\n",
      "Requirement already satisfied: chardet<4,>=3.0.2 in c:\\programdata\\anaconda3\\lib\\site-packages (from requests) (3.0.4)\n",
      "Note: you may need to restart the kernel to use updated packages.\n"
     ]
    }
   ],
   "source": [
    "pip install requests"
   ]
  },
  {
   "cell_type": "code",
   "execution_count": 3,
   "metadata": {},
   "outputs": [
    {
     "name": "stdout",
     "output_type": "stream",
     "text": [
      "Requirement already satisfied: bs4 in c:\\programdata\\anaconda3\\lib\\site-packages (0.0.1)\n",
      "Requirement already satisfied: beautifulsoup4 in c:\\programdata\\anaconda3\\lib\\site-packages (from bs4) (4.9.1)\n",
      "Requirement already satisfied: soupsieve>1.2 in c:\\programdata\\anaconda3\\lib\\site-packages (from beautifulsoup4->bs4) (2.0.1)\n",
      "Note: you may need to restart the kernel to use updated packages.\n"
     ]
    }
   ],
   "source": [
    "pip install bs4"
   ]
  },
  {
   "cell_type": "code",
   "execution_count": 4,
   "metadata": {},
   "outputs": [],
   "source": [
    "from bs4 import BeautifulSoup \n",
    "\n",
    "import requests \n",
    "\n",
    "import csv\n",
    "\n",
    "import pandas as pd"
   ]
  },
  {
   "cell_type": "code",
   "execution_count": 5,
   "metadata": {},
   "outputs": [],
   "source": [
    "url='https://www.flipkart.com/mobiles/pr?sid=tyy%2C4io&p%5B%5D=facets.serviceability%5B%5D%3Dfalse&p%5B%5D=facets.brand%255B%255D%3DVivo&otracker=nmenu_sub_Electronics_0_Vivo'"
   ]
  },
  {
   "cell_type": "code",
   "execution_count": 6,
   "metadata": {},
   "outputs": [],
   "source": [
    "req=requests.get(url)"
   ]
  },
  {
   "cell_type": "code",
   "execution_count": 7,
   "metadata": {},
   "outputs": [],
   "source": [
    "content=BeautifulSoup(req.content,'html.parser')"
   ]
  },
  {
   "cell_type": "code",
   "execution_count": 8,
   "metadata": {},
   "outputs": [],
   "source": [
    "name=content.find_all('div',{\"class\":\"_4rR01T\"})\n",
    "price=content.find_all('div',{\"class\":\"_30jeq3 _1_WHN1\"})\n",
    "rating=content.find_all('div',{\"class\":\"_3LWZlK\"})"
   ]
  },
  {
   "cell_type": "code",
   "execution_count": 9,
   "metadata": {},
   "outputs": [],
   "source": [
    "nm=[]\n",
    "pr=[]\n",
    "rt=[]"
   ]
  },
  {
   "cell_type": "code",
   "execution_count": 10,
   "metadata": {},
   "outputs": [],
   "source": [
    "for i in name:\n",
    "    nm.append(i.text)\n",
    "for i in price:\n",
    "    pr.append(i.text)\n",
    "for i in rating:\n",
    "    rt.append(i.text)"
   ]
  },
  {
   "cell_type": "code",
   "execution_count": 11,
   "metadata": {},
   "outputs": [],
   "source": [
    "data={'NAME':nm,'PRICE':pr,'RATING':rt}\n",
    "df=pd.DataFrame(data)"
   ]
  },
  {
   "cell_type": "code",
   "execution_count": 12,
   "metadata": {},
   "outputs": [
    {
     "name": "stdout",
     "output_type": "stream",
     "text": [
      "                                      NAME    PRICE RATING\n",
      "0         vivo Y12s (Phantom Black, 32 GB)  ₹10,490    4.3\n",
      "1          vivo Y12s (Glacier Blue, 32 GB)  ₹10,490    4.3\n",
      "2   vivo Y20G 2021 (Obsidian Black, 64 GB)  ₹13,990    4.4\n",
      "3      vivo Y20G 2021 (Purist Blue, 64 GB)  ₹13,990    4.4\n",
      "4     vivo Y51A (Crystal Symphony, 128 GB)  ₹17,990    4.3\n",
      "5    vivo Y51A (Titanium Sapphire, 128 GB)  ₹17,815    4.3\n",
      "6     vivo Y51A (Crystal Symphony, 128 GB)  ₹16,990    4.3\n",
      "7          vivo Y31 (Racing Black, 128 GB)  ₹16,490    4.3\n",
      "8           vivo Y11 (Mineral Blue, 32 GB)   ₹9,490    4.4\n",
      "9         vivo Y73 (Diamond Flare, 128 GB)  ₹20,990    4.4\n",
      "10      vivo Y20G (Obsidian Black, 128 GB)  ₹15,990    4.3\n",
      "11          vivo Y20G (Purist Blue, 64 GB)  ₹13,990    4.3\n",
      "12   vivo Y51A (Titanium Sapphire, 128 GB)  ₹16,990    4.3\n",
      "13         vivo Y20G (Purist Blue, 128 GB)  ₹15,990    4.3\n",
      "14          vivo V21e (Dark Pearl, 128 GB)  ₹24,990    4.2\n",
      "15        vivo Y72 5G (Slate Gray, 128 GB)  ₹20,990    4.4\n",
      "16           vivo Y1s (Olive Black, 32 GB)   ₹9,490    4.3\n",
      "17          vivo Y73 (Roman Black, 128 GB)  ₹20,990    4.4\n",
      "18     vivo V20 SE (Gravity Black, 128 GB)  ₹19,770    4.3\n",
      "19          vivo Y20i (Nebula Blue, 64 GB)  ₹12,575    4.4\n",
      "20     vivo Y51 (Crystal Symphony, 128 GB)  ₹17,990    4.3\n",
      "21       vivo Y20G (Obsidian Black, 64 GB)  ₹13,969    4.3\n",
      "22     vivo V21 5G (Sunset Dazzle, 256 GB)  ₹32,990    4.3\n",
      "23     vivo V21 5G (Sunset Dazzle, 128 GB)  ₹29,990    4.3\n"
     ]
    }
   ],
   "source": [
    "print(df)"
   ]
  },
  {
   "cell_type": "code",
   "execution_count": 13,
   "metadata": {},
   "outputs": [],
   "source": [
    "df.to_csv('18it103_Sujay Patel.csv')"
   ]
  },
  {
   "cell_type": "code",
   "execution_count": null,
   "metadata": {},
   "outputs": [],
   "source": []
  }
 ],
 "metadata": {
  "kernelspec": {
   "display_name": "Python 3",
   "language": "python",
   "name": "python3"
  },
  "language_info": {
   "codemirror_mode": {
    "name": "ipython",
    "version": 3
   },
   "file_extension": ".py",
   "mimetype": "text/x-python",
   "name": "python",
   "nbconvert_exporter": "python",
   "pygments_lexer": "ipython3",
   "version": "3.8.3"
  }
 },
 "nbformat": 4,
 "nbformat_minor": 4
}
